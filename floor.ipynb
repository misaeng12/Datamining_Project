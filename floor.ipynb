{
  "nbformat": 4,
  "nbformat_minor": 0,
  "metadata": {
    "colab": {
      "name": "floor.ipynb",
      "version": "0.3.2",
      "provenance": [],
      "collapsed_sections": []
    },
    "kernelspec": {
      "name": "python3",
      "display_name": "Python 3"
    }
  },
  "cells": [
    {
      "cell_type": "code",
      "metadata": {
        "id": "_vyMglkKaSW5",
        "colab_type": "code",
        "colab": {}
      },
      "source": [
        "import pandas as pd\n",
        "import numpy as np\n",
        "import re"
      ],
      "execution_count": 0,
      "outputs": []
    },
    {
      "cell_type": "code",
      "metadata": {
        "id": "MOywNvgkgII6",
        "colab_type": "code",
        "colab": {}
      },
      "source": [
        "from google.colab import drive \n",
        "drive.mount('/content/gdrive')"
      ],
      "execution_count": 0,
      "outputs": []
    },
    {
      "cell_type": "code",
      "metadata": {
        "id": "U-pWOP3ZaO5U",
        "colab_type": "code",
        "colab": {}
      },
      "source": [
        "final = pd.read_csv(\"gdrive/My Drive/final_0607.csv\", encoding=\"cp949\")\n",
        "data = final\n",
        "data"
      ],
      "execution_count": 0,
      "outputs": []
    },
    {
      "cell_type": "code",
      "metadata": {
        "id": "gfZ0bMQga9Bc",
        "colab_type": "code",
        "colab": {}
      },
      "source": [
        "# floor: 지하(0) / 1층(1) / 2층이상(2) / 지하+지상(3) / 1층+2층이상(4)\n",
        "# total_floor: 총 층수\n",
        "\n",
        "for i in range(len(data)):\n",
        "  if not np.isnan(data.top_start[i]) and not np.isnan(data.top_fin[i]) and not np.isnan(data.bott_start[i]) and not np.isnan(data.bott_fin[i]):\n",
        "    data.floor[i] = \"지하+지상\"\n",
        "    data.total_floor[i] = data.top_fin[i] - data.top_start[i] + data.bott_fin[i] - data.bott_start[i] + 2\n",
        "  elif not np.isnan(data.top_start[i]) and np.isnan(data.bott_start[i]) and np.isnan(data.bott_fin[i]):\n",
        "    if not np.isnan(data.top_fin[i]):\n",
        "      data.total_floor[i] = data.top_fin[i] - data.top_start[i] + 1\n",
        "      if data.top_start[i] == 1:\n",
        "        data.floor[i] = \"1층\" if data.total_floor[i] == 1 else \"1층+2층이상\"\n",
        "      else: data.floor[i] = \"2층이상\"\n",
        "    else:\n",
        "      data.total_floor[i] = 1\n",
        "      data.floor[i] = \"1층\" if data.top_start[i] == 1 else \"2층이상\"\n",
        "  elif not np.isnan(data.bott_start[i]) and np.isnan(data.top_start[i]) and np.isnan(data.top_fin[i]):\n",
        "    data.floor[i] = \"지하\"\n",
        "    if not np.isnan(data.bott_fin[i]):\n",
        "      data.total_floor[i] = data.bott_fin[i] - data.bott_start[i] + 1\n",
        "    else:\n",
        "      data.total_floor[i] = 1"
      ],
      "execution_count": 0,
      "outputs": []
    },
    {
      "cell_type": "code",
      "metadata": {
        "id": "1Wjx3pB2fmog",
        "colab_type": "code",
        "colab": {
          "base_uri": "https://localhost:8080/",
          "height": 34
        },
        "outputId": "27fd38d4-b584-4c3f-948d-3218f4fbf0de"
      },
      "source": [
        "len(data), data.total_floor.count(), data.floor.count()"
      ],
      "execution_count": 48,
      "outputs": [
        {
          "output_type": "execute_result",
          "data": {
            "text/plain": [
              "(13517, 8418, 9074)"
            ]
          },
          "metadata": {
            "tags": []
          },
          "execution_count": 48
        }
      ]
    },
    {
      "cell_type": "code",
      "metadata": {
        "id": "mRd9O_PYfnPm",
        "colab_type": "code",
        "colab": {}
      },
      "source": [
        "#data.to_csv(\"gdrive/My Drive/final_floor0607.csv\", encoding=\"utf-8\")\n",
        "data = pd.read_csv(\"gdrive/My Drive/final_floor0607.csv\", encoding=\"utf-8\")"
      ],
      "execution_count": 0,
      "outputs": []
    },
    {
      "cell_type": "code",
      "metadata": {
        "id": "TJwblm0_J_i8",
        "colab_type": "code",
        "colab": {
          "base_uri": "https://localhost:8080/",
          "height": 34
        },
        "outputId": "3ae9c582-87cf-4a2f-b0ba-b4808158e1f5"
      },
      "source": [
        "p1, p2 = re.compile(\"[ ]([0-9]{1,3})층\"), re.compile(\"[ ]([0-9]{3,4})호\")\n",
        "p2.search(\"세명빌딩 1203호\").group(1)   # example"
      ],
      "execution_count": 22,
      "outputs": [
        {
          "output_type": "execute_result",
          "data": {
            "text/plain": [
              "'1203'"
            ]
          },
          "metadata": {
            "tags": []
          },
          "execution_count": 22
        }
      ]
    },
    {
      "cell_type": "code",
      "metadata": {
        "id": "jBavG5b3g3tF",
        "colab_type": "code",
        "colab": {}
      },
      "source": [
        "for i in range(len(data)):\n",
        "  \n",
        "  if not pd.isnull(data.remain_ad[i]):\n",
        "    s11, s12 = p1.search(data.remain_ad[i]), p2.search(data.remain_ad[i])\n",
        "    if s11:\n",
        "      data.total_floor[i] = 1\n",
        "      floor = s11.group(1)\n",
        "      if \"지하\" in data.remain_ad[i]: data.floor[i] = \"지하\"\n",
        "      else: data.floor[i] = \"1층\" if floor == 1 else \"2층이상\"\n",
        "    elif s12:\n",
        "      data.total_floor[i] = 1\n",
        "      g = s12.group(1)\n",
        "      floor = g[0] if len(g)==3 else g[0:2]\n",
        "      if \"지하\" in data.remain_ad[i]: data.floor[i] = \"지하\"\n",
        "      else: data.floor[i] = \"1층\" if floor == 1 else \"2층이상\"\n",
        "  \n",
        "  elif not pd.isnull(data.ad_name[i]):\n",
        "    s21, s22 = p1.search(data.ad_name[i]), p2.search(data.ad_name[i])\n",
        "    if s21:\n",
        "      data.total_floor[i] = 1\n",
        "      floor = s21.group(1)\n",
        "      if \"지하\" in data.ad_name[i]: data.floor[i] = \"지하\"\n",
        "      else: data.floor[i] = \"1층\" if floor == 1 else \"2층이상\"\n",
        "    elif s22:\n",
        "      data.total_floor[i] = 1\n",
        "      g = s22.group(1)\n",
        "      floor = g[0] if len(g)==3 else g[0:2] \n",
        "      if \"지하\" in data.ad_name[i]: data.floor[i] = \"지하\"\n",
        "      else: data.floor[i] = \"1층\" if floor == 1 else \"2층이상\""
      ],
      "execution_count": 0,
      "outputs": []
    },
    {
      "cell_type": "code",
      "metadata": {
        "id": "WkPlb0pZ3OgV",
        "colab_type": "code",
        "colab": {
          "base_uri": "https://localhost:8080/",
          "height": 34
        },
        "outputId": "711579e1-1e43-4809-bf43-bb9d546fbf55"
      },
      "source": [
        "len(data), data.floor.count(), data.total_floor.count()"
      ],
      "execution_count": 42,
      "outputs": [
        {
          "output_type": "execute_result",
          "data": {
            "text/plain": [
              "(13517, 10634, 10152)"
            ]
          },
          "metadata": {
            "tags": []
          },
          "execution_count": 42
        }
      ]
    },
    {
      "cell_type": "code",
      "metadata": {
        "id": "2Pry6CZ62kPu",
        "colab_type": "code",
        "colab": {}
      },
      "source": [
        "data.to_csv(\"gdrive/My Drive/final_floor0607.csv\", encoding=\"utf-8\")"
      ],
      "execution_count": 0,
      "outputs": []
    }
  ]
}